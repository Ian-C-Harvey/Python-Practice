{
 "cells": [
  {
   "cell_type": "code",
   "execution_count": 1,
   "id": "268abbda",
   "metadata": {},
   "outputs": [],
   "source": [
    "# Importing the data\n",
    "import pandas as pd\n",
    "import numpy as np\n",
    "cutt_off_date = '2012-01-01' # year, month, day\n",
    "df = pd.read_csv(r'C:\\Users\\Name\\OneDrive\\Documents\\WF_Panda_Data.csv')\n",
    "# I use ondrive to backup my files.\n",
    "# Data Source: https://www.kaggle.com/datasets/varpit94/wells-fargo-stock-data-updated-till-30jun2021"
   ]
  },
  {
   "cell_type": "code",
   "execution_count": 264,
   "id": "806697ff",
   "metadata": {},
   "outputs": [],
   "source": [
    "# Turning the dataframe columns into a dictionary and filtering by date, 10 years.\n",
    "NewDict = dict((zip(df.Date, zip(df.Open, df.Close ))))\n",
    "DatePreciseDict = {}\n",
    "for keys, values in newdict.items():\n",
    "    if keys < '2012-01-01':\n",
    "        continue\n",
    "    else: \n",
    "        DatePreciseDict[keys] = values"
   ]
  },
  {
   "cell_type": "code",
   "execution_count": 266,
   "id": "02072d1f",
   "metadata": {},
   "outputs": [
    {
     "name": "stdout",
     "output_type": "stream",
     "text": [
      "1551 value(s) are greater than the average\n",
      "{21.0, 22.0, 23.0, 24.0, 25.0, 26.0, 27.0, 28.0, 29.0, 30.0, 31.0, 32.0, 33.0, 34.0, 35.0, 36.0, 37.0, 38.0, 39.0, 40.0, 41.0, 42.0, 43.0, 44.0, 45.0, 46.0, 47.0, 48.0, 49.0, 50.0, 51.0, 52.0, 53.0, 54.0, 55.0, 56.0, 57.0, 58.0, 59.0, 60.0, 61.0, 62.0, 63.0, 64.0, 65.0, 66.0}\n",
      "Average Variance Standard Deviation\n",
      "46.186868686868685 91.04549967428756 9.541776547073797\n",
      "-----\n",
      "1548 value(s) are greater than the average\n",
      "{21.0, 22.0, 23.0, 24.0, 25.0, 26.0, 27.0, 28.0, 29.0, 30.0, 31.0, 32.0, 33.0, 34.0, 35.0, 36.0, 37.0, 38.0, 39.0, 40.0, 41.0, 42.0, 43.0, 44.0, 45.0, 46.0, 47.0, 48.0, 49.0, 50.0, 51.0, 52.0, 53.0, 54.0, 55.0, 56.0, 57.0, 58.0, 59.0, 60.0, 61.0, 62.0, 63.0, 64.0, 65.0, 66.0}\n",
      "Average Variance Standard Deviation\n",
      "46.186868686868685 91.04549967428756 9.541776547073797\n",
      "-----\n",
      "Values present in both sets\n",
      "{21.0, 22.0, 23.0, 24.0, 25.0, 26.0, 27.0, 28.0, 29.0, 30.0, 31.0, 32.0, 33.0, 34.0, 35.0, 36.0, 37.0, 38.0, 39.0, 40.0, 41.0, 42.0, 43.0, 44.0, 45.0, 46.0, 47.0, 48.0, 49.0, 50.0, 51.0, 52.0, 53.0, 54.0, 55.0, 56.0, 57.0, 58.0, 59.0, 60.0, 61.0, 62.0, 63.0, 64.0, 65.0, 66.0}\n"
     ]
    }
   ],
   "source": [
    "def Summarize_Values(listvalues):\n",
    "    ''' \n",
    "    Takes in a list of numerical values and provides summary information.\n",
    "    Args:\n",
    "        listvalues (float): List of values for the summarization\n",
    "\n",
    "    Returns:\n",
    "        Std: Standard deviation\n",
    "        Var: Variance\n",
    "        Average: Sum of values / length\n",
    "        Unique_values: Creates a set from the list.\n",
    "    '''    \n",
    "    Average = sum(listvalues)/len(listvalues)\n",
    "    Arraylist = np.array(listvalues)\n",
    "    Var = np.var(Arraylist)\n",
    "    Std = np.sqrt(np.var(Arraylist))\n",
    "    Unique_values = set(listvalues)\n",
    "    Largerthanaverage = Arraylist > Average\n",
    "    TrueCountVal = np.count_nonzero(Largerthanaverage)\n",
    "    \n",
    "    print(f'{TrueCountVal} value(s) are greater than the average')\n",
    "    print(Unique_values)\n",
    "    print('Average', 'Variance', 'Standard Deviation')\n",
    "    return [Average, Var, Std, Unique_values]\n",
    "\n",
    "DictOpenList = []\n",
    "DictCloseList = []\n",
    "\n",
    "for x,y in DatePreciseDict.items():\n",
    "    DictOpenList.append(round((y[0]),0))\n",
    "\n",
    "for x,y in DatePreciseDict.items():\n",
    "    DictCloseList.append(round((y[1]),0))\n",
    "\n",
    "Average, Var, Std, Unique_Values = Summarize_Values(DictOpenList)\n",
    "print(Average, Var, Std)\n",
    "print(\"-----\")\n",
    "Average1, Var1, Std1 , Unique_Values1 = Summarize_Values(DictCloseList)\n",
    "print(Average, Var, Std)\n",
    "print(\"-----\")\n",
    "\n",
    "print('Values present in both sets')\n",
    "try:\n",
    "    Difference = Unique_Values.intersection(Unique_Values1)\n",
    "    print(Difference)\n",
    "except NameError:\n",
    "    pass\n",
    "\n",
    "# The two list are different rounding to 0 made them very similar and the output more readable."
   ]
  },
  {
   "cell_type": "code",
   "execution_count": null,
   "id": "04ee5236",
   "metadata": {},
   "outputs": [],
   "source": []
  }
 ],
 "metadata": {
  "kernelspec": {
   "display_name": "Python 3 (ipykernel)",
   "language": "python",
   "name": "python3"
  },
  "language_info": {
   "codemirror_mode": {
    "name": "ipython",
    "version": 3
   },
   "file_extension": ".py",
   "mimetype": "text/x-python",
   "name": "python",
   "nbconvert_exporter": "python",
   "pygments_lexer": "ipython3",
   "version": "3.9.16"
  }
 },
 "nbformat": 4,
 "nbformat_minor": 5
}
