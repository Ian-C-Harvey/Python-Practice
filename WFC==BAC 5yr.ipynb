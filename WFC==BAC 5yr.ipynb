{
 "cells": [
  {
   "cell_type": "code",
   "execution_count": 54,
   "id": "783bbf2b",
   "metadata": {},
   "outputs": [
    {
     "name": "stdout",
     "output_type": "stream",
     "text": [
      "[*********************100%***********************]  1 of 1 completed\n",
      "[*********************100%***********************]  1 of 1 completed\n"
     ]
    }
   ],
   "source": [
    "import yfinance as yf\n",
    "import pandas as pd\n",
    "# yfinance pre installed\n",
    "\n",
    "WFC_DF = yf.download('WFC', start = '2018-4-29',end='2022-04-29')\n",
    "WFC_ticker = yf.Ticker('WFC')\n",
    "\n",
    "BAC_DF = yf.download('BAC', start = '2018-4-29',end='2022-04-29')\n",
    "BAC_ticker = yf.Ticker('BAC')\n",
    "\n",
    "# Dates are automtically set as the index."
   ]
  },
  {
   "cell_type": "code",
   "execution_count": 56,
   "id": "d42abc8b",
   "metadata": {},
   "outputs": [],
   "source": [
    "# Exporting the data and importing it to provide offline access\n",
    "# WFC_DF.to_csv('C:/Users/IanCH/OneDrive/WFC.csv', sep=str(','))\n",
    "# BAC_DF.to_csv('C:/Users/IanCH/OneDrive/BAC.csv', sep=str(','))\n",
    "WFC_DF = pd.read_csv('C:/Users/IanCH/OneDrive/WFC.csv',index_col='Date', parse_dates =[0])\n",
    "BAC_DF = pd.read_csv('C:/Users/IanCH/OneDrive/BAC.csv',index_col='Date', parse_dates =[0])"
   ]
  },
  {
   "cell_type": "code",
   "execution_count": 3,
   "id": "40dc6915",
   "metadata": {},
   "outputs": [],
   "source": [
    "# Calculating daily returns with adjusted close.\n",
    "\n",
    "def Daily_R(Open, Close):\n",
    "    Daily_return = Open - Close\n",
    "    return round(Daily_return,5)\n",
    "\n",
    "WFC_DF['DR'] = WFC_DF[\n",
    "    ['Open','Adj Close']].apply(\n",
    "    lambda df: Daily_R(\n",
    "        df['Open'],df['Adj Close']), axis=1)\n",
    "\n",
    "BAC_DF['DR'] = BAC_DF[\n",
    "    ['Open','Adj Close']].apply(\n",
    "    lambda df: Daily_R(\n",
    "        df['Open'],df['Adj Close']), axis=1)\n",
    "\n",
    "# axis 1 means rows.\n",
    "#.apply applies the function across the selected dataframe columns.\n",
    "#lambda is a small one time function, here is is required."
   ]
  },
  {
   "cell_type": "code",
   "execution_count": 15,
   "id": "ad099658",
   "metadata": {},
   "outputs": [
    {
     "name": "stdout",
     "output_type": "stream",
     "text": [
      "                 Open       High        Low      Close  Adj Close    Volume\n",
      "Date                                                                       \n",
      "2018-04-30  52.560001  53.049999  51.959999  51.959999  44.958458  17050500\n",
      "2018-05-01  51.759998  52.599998  51.599998  52.560001  45.477612  13903800\n",
      "2018-05-02  52.380001  52.869999  52.060001  52.189999  45.157471  16397200\n",
      "2018-05-03  51.619999  51.790001  50.810001  51.540001  44.930813  19216100\n",
      "2018-05-04  51.169998  52.900002  51.070000  52.410000  45.689240  16660500\n",
      "                 Open       High        Low      Close  Adj Close     Volume\n",
      "Date                                                                        \n",
      "2018-04-30  30.270000  30.430000  29.920000  29.920000  26.750227   55153900\n",
      "2018-05-01  29.920000  29.959999  29.620001  29.950001  26.777048   52871700\n",
      "2018-05-02  29.950001  30.070000  29.559999  29.580000  26.446249   68234600\n",
      "2018-05-03  29.510000  29.520000  28.430000  29.200001  26.106506  110672700\n",
      "2018-05-04  28.990000  29.420000  28.820000  29.299999  26.195908   58281900\n"
     ]
    }
   ],
   "source": [
    "print(WFC_DF.head())\n",
    "print(BAC_DF.head())"
   ]
  },
  {
   "cell_type": "code",
   "execution_count": null,
   "id": "ea0b2ff2",
   "metadata": {},
   "outputs": [],
   "source": [
    "# 3 day average\n",
    "# rolling standard deviation \n",
    "# Daily & Annual Sharpie Ratio\n",
    "# Daily & Annual Sortino Ratio"
   ]
  }
 ],
 "metadata": {
  "kernelspec": {
   "display_name": "Python 3 (ipykernel)",
   "language": "python",
   "name": "python3"
  },
  "language_info": {
   "codemirror_mode": {
    "name": "ipython",
    "version": 3
   },
   "file_extension": ".py",
   "mimetype": "text/x-python",
   "name": "python",
   "nbconvert_exporter": "python",
   "pygments_lexer": "ipython3",
   "version": "3.9.16"
  }
 },
 "nbformat": 4,
 "nbformat_minor": 5
}
